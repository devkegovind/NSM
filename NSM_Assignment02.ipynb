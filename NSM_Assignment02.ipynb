{
  "nbformat": 4,
  "nbformat_minor": 0,
  "metadata": {
    "colab": {
      "provenance": [],
      "authorship_tag": "ABX9TyNQH7/tWPYacRufzL+3rrPd",
      "include_colab_link": true
    },
    "kernelspec": {
      "name": "python3",
      "display_name": "Python 3"
    },
    "language_info": {
      "name": "python"
    }
  },
  "cells": [
    {
      "cell_type": "markdown",
      "metadata": {
        "id": "view-in-github",
        "colab_type": "text"
      },
      "source": [
        "<a href=\"https://colab.research.google.com/github/devkegovind/NSM/blob/main/NSM_Assignment02.ipynb\" target=\"_parent\"><img src=\"https://colab.research.google.com/assets/colab-badge.svg\" alt=\"Open In Colab\"/></a>"
      ]
    },
    {
      "cell_type": "markdown",
      "source": [
        "---\n",
        "<h1 align='center'><b>ASSIGNMENT NO.2</b></h1>\n",
        "\n",
        "---\n",
        "\n",
        "<h2 align='center'><b>2.SIMULTANEOUS EQUATIONS</b></h2>\n",
        "\n",
        "---\n",
        "<h3 align='center'><b>A.SIMULTANEOUS EQUATION BY USING GAUSS ELIMINATION METHOD</b></h3>\n",
        "\n",
        "---\n",
        "<h4 align='justify'><b>AIM: To Determine Solution Of The Equation By Using Gauss Elimination Method.</b></h4>\n",
        "\n",
        "---\n",
        "<h4 align='justify'>Problem Statement: Solve the following set of linear simultaneous equations Using Gauss Elimination Method.</h4>\n",
        "\n",
        "$ 2x1 + 3x2 + 4x3 = 11 $\n",
        "\n",
        "$ 9x1 + 2x2 -8x3 = 1.9 $\n",
        "\n",
        "$ 15x1 -8x2 + 6x3 = 14.7 $\n",
        "\n",
        "<h4 align='justify'>Solution: Python Program for Gauss Elimination Method</h4>"
      ],
      "metadata": {
        "id": "Toi4FujB_22j"
      }
    },
    {
      "cell_type": "code",
      "source": [
        "# Importing NumPy Library\n",
        "import numpy as np\n",
        "import sys\n",
        "print(\"=======================OUTPUT OF THE PROGRAM==========================\")\n",
        "# Reading number of unknowns\n",
        "n = int(input('Enter number of unknowns: '))\n",
        "\n",
        "# Making numpy array of n x n+1 size and initializing \n",
        "# to zero for storing augmented matrix\n",
        "a = np.zeros((n,n+1))\n",
        "\n",
        "# Making numpy array of n size and initializing \n",
        "# to zero for storing solution vector\n",
        "x = np.zeros(n)\n",
        "\n",
        "# Reading augmented matrix coefficients\n",
        "print('Enter Augmented Matrix Coefficients:')\n",
        "for i in range(n):\n",
        "    for j in range(n+1):\n",
        "        a[i][j] = float(input( 'a['+str(i)+']['+ str(j)+']='))\n",
        "\n",
        "# Applying Gauss Elimination\n",
        "for i in range(n):\n",
        "    if a[i][i] == 0.0:\n",
        "        sys.exit('Divide by zero detected!')\n",
        "        \n",
        "    for j in range(i+1, n):\n",
        "        ratio = a[j][i]/a[i][i]\n",
        "        \n",
        "        for k in range(n+1):\n",
        "            a[j][k] = a[j][k] - ratio * a[i][k]\n",
        "\n",
        "# Back Substitution\n",
        "x[n-1] = a[n-1][n]/a[n-1][n-1]\n",
        "\n",
        "for i in range(n-2,-1,-1):\n",
        "    x[i] = a[i][n]\n",
        "    \n",
        "    for j in range(i+1,n):\n",
        "        x[i] = x[i] - a[i][j]*x[j]\n",
        "    \n",
        "    x[i] = x[i]/a[i][i]\n",
        "\n",
        "# Displaying solution\n",
        "print('\\nRequired solution is: ')\n",
        "for i in range(n):\n",
        "    print('X%d = %0.2f' %(i,x[i]), end = '\\t')\n",
        "\n",
        "\n",
        "'''\n",
        "====OUTPUT OF THE PROGRAM==========================\n",
        "Enter number of unknowns: 3\n",
        "Enter Augmented Matrix Coefficients:\n",
        "a[0][0]=2\n",
        "a[0][1]=3\n",
        "a[0][2]=4\n",
        "a[0][3]=11\n",
        "a[1][0]=9\n",
        "a[1][1]=2\n",
        "a[1][2]=-8\n",
        "a[1][3]=1.9\n",
        "a[2][0]=15\n",
        "a[2][1]=-8\n",
        "a[2][2]=6\n",
        "a[2][3]=14.7\n",
        "\n",
        "Required solution is: \n",
        "X0 = 1.10\tX1 = 1.20\tX2 = 1.30\t\n",
        "'''\n"
      ],
      "metadata": {
        "colab": {
          "base_uri": "https://localhost:8080/",
          "height": 380
        },
        "id": "34oPefdv_5Zq",
        "outputId": "e8b05027-b0ff-45f1-d4c6-e3dc4b8c6c48"
      },
      "execution_count": null,
      "outputs": [
        {
          "output_type": "stream",
          "name": "stdout",
          "text": [
            "=======================OUTPUT OF THE PROGRAM==========================\n",
            "Enter number of unknowns: 3\n",
            "Enter Augmented Matrix Coefficients:\n",
            "a[0][0]=2\n",
            "a[0][1]=3\n",
            "a[0][2]=4\n",
            "a[0][3]=11\n",
            "a[1][0]=9\n",
            "a[1][1]=2\n",
            "a[1][2]=-8\n",
            "a[1][3]=1.9\n",
            "a[2][0]=15\n",
            "a[2][1]=-8\n",
            "a[2][2]=6\n",
            "a[2][3]=14.7\n",
            "\n",
            "Required solution is: \n",
            "X0 = 1.10\tX1 = 1.20\tX2 = 1.30\t"
          ]
        },
        {
          "output_type": "execute_result",
          "data": {
            "text/plain": [
              "'\\n====OUTPUT OF THE PROGRAM==========================\\nEnter number of unknowns: 3\\nEnter Augmented Matrix Coefficients:\\na[0][0]=2\\na[0][1]=3\\na[0][2]=4\\na[0][3]=11\\na[1][0]=9\\na[1][1]=2\\na[1][2]=-8\\na[1][3]=1.9\\na[2][0]=15\\na[2][1]=-8\\na[2][2]=6\\na[2][3]=14.7\\n\\nRequired solution is: \\nX0 = 1.10\\tX1 = 1.20\\tX2 = 1.30\\t\\n'"
            ],
            "application/vnd.google.colaboratory.intrinsic+json": {
              "type": "string"
            }
          },
          "metadata": {},
          "execution_count": 1
        }
      ]
    },
    {
      "cell_type": "markdown",
      "source": [
        "---\n",
        "<h1 align='center'><b>ASSIGNMENT NO.2</b></h1>\n",
        "\n",
        "---\n",
        "\n",
        "<h2 align='center'><b>2.SIMULTANEOUS EQUATIONS</b></h2>\n",
        "\n",
        "---\n",
        "<h3 align='center'><b>B.SIMULTANEOUS EQUATION BY USING GAUSS-SEIDAL METHOD</b></h3>\n",
        "\n",
        "---\n",
        "<h4 align='justify'><b>AIM: To Determine Solution Of The Equation By Using Gauss Seidal Method.</b></h4>\n",
        "\n",
        "---\n",
        "<h4 align='justify'>Problem Statement: Solve the following set of linear simultaneous equations Using Gauss Seidal Method.</h4>\n",
        "\n",
        "$ 3x + 20y - z = -18 $\n",
        "\n",
        "$ 2x - 3y + 20z = 25 $\n",
        "\n",
        "$ 20x + y - 2z = 17 $\n",
        " \n",
        "<h4 align='justify'>Solution: Python Program for Gauss Seidal Method This program implements Gauss Seidel Iteration Method for solving systems of linear equation in python programming language.In Gauss Seidel method, we first arrange given system of linear equations in diagonally dominant form. For example, if system of linear equations are:</h4>\n",
        "\n",
        "$ 3x + 20y - z = -18 $\n",
        "\n",
        "$ 2x - 3y + 20z = 25 $\n",
        "\n",
        "$ 20x + y - 2z = 17 $\n",
        "\n",
        "Then they will be arranged like this:\n",
        "\n",
        "$ 20x + y - 2z = 17 $\n",
        "\n",
        "$ 3x + 20y -z = -18 $\n",
        "\n",
        "$ 2x - 3y + 20z = 25 $\n",
        "\n",
        "After arranging equations in diagonally dominant form, we form equations for x, y, & z like this:\n",
        "\n",
        "$x = (17-y+2z)/20$\n",
        "\n",
        "$y = (-18-3x+z)/20$\n",
        "\n",
        "$z = (25-2x+3y)/20$\n",
        "\n",
        "<h4 align='justify'>These equations are defined later in Gauss Seidel python program using lambda expression.</h4>"
      ],
      "metadata": {
        "id": "keeNpj6kAOp5"
      }
    },
    {
      "cell_type": "code",
      "source": [
        "print(\"=======================OUTPUT OF THE PROGRAM==========================\")\n",
        "# Gauss Seidel Iteration\n",
        "\n",
        "# Defining equations to be solved\n",
        "# in diagonally dominant form\n",
        "f1 = lambda x,y,z: (17-y+2*z)/20\n",
        "f2 = lambda x,y,z: (-18-3*x+z)/20\n",
        "f3 = lambda x,y,z: (25-2*x+3*y)/20\n",
        "\n",
        "# Initial setup\n",
        "x0 = 0\n",
        "y0 = 0\n",
        "z0 = 0\n",
        "count = 1\n",
        "\n",
        "# Reading tolerable error\n",
        "e = float(input('Enter tolerable error: '))\n",
        "\n",
        "# Implementation of Gauss Seidel Iteration\n",
        "print('\\nCount\\tx\\ty\\tz\\n')\n",
        "\n",
        "condition = True\n",
        "\n",
        "while condition:\n",
        "    x1 = f1(x0,y0,z0)\n",
        "    y1 = f2(x1,y0,z0)\n",
        "    z1 = f3(x1,y1,z0)\n",
        "    print('%d\\t%0.4f\\t%0.4f\\t%0.4f\\n' %(count, x1,y1,z1))\n",
        "    e1 = abs(x0-x1);\n",
        "    e2 = abs(y0-y1);\n",
        "    e3 = abs(z0-z1);\n",
        "    \n",
        "    count += 1\n",
        "    x0 = x1\n",
        "    y0 = y1\n",
        "    z0 = z1\n",
        "    \n",
        "    condition = e1>e and e2>e and e3>e\n",
        "\n",
        "print('\\nSolution: x=%0.3f, y=%0.3f and z = %0.3f\\n'% (x1,y1,z1))\n",
        "\n",
        "\n",
        "'''\n",
        "==OUTPUT OF THE PROGRAM==========================\n",
        "Enter tolerable error: 0.0001\n",
        "\n",
        "Count\tx\ty\tz\n",
        "\n",
        "1\t0.8500\t-1.0275\t1.0109\n",
        "\n",
        "2\t1.0025\t-0.9998\t0.9998\n",
        "\n",
        "3\t1.0000\t-1.0000\t1.0000\n",
        "\n",
        "4\t1.0000\t-1.0000\t1.0000\n",
        "\n",
        "\n",
        "Solution: x=1.000, y=-1.000 and z = 1.000\n",
        "'''"
      ],
      "metadata": {
        "colab": {
          "base_uri": "https://localhost:8080/",
          "height": 343
        },
        "id": "QCJF-BM6APem",
        "outputId": "baee3b07-7dfc-49a3-823c-36e9fe2dcaff"
      },
      "execution_count": null,
      "outputs": [
        {
          "output_type": "stream",
          "name": "stdout",
          "text": [
            "=======================OUTPUT OF THE PROGRAM==========================\n",
            "Enter tolerable error: 0.0001\n",
            "\n",
            "Count\tx\ty\tz\n",
            "\n",
            "1\t0.8500\t-1.0275\t1.0109\n",
            "\n",
            "2\t1.0025\t-0.9998\t0.9998\n",
            "\n",
            "3\t1.0000\t-1.0000\t1.0000\n",
            "\n",
            "4\t1.0000\t-1.0000\t1.0000\n",
            "\n",
            "\n",
            "Solution: x=1.000, y=-1.000 and z = 1.000\n",
            "\n"
          ]
        },
        {
          "output_type": "execute_result",
          "data": {
            "text/plain": [
              "'\\n==OUTPUT OF THE PROGRAM==========================\\nEnter tolerable error: 0.0001\\n\\nCount\\tx\\ty\\tz\\n\\n1\\t0.8500\\t-1.0275\\t1.0109\\n\\n2\\t1.0025\\t-0.9998\\t0.9998\\n\\n3\\t1.0000\\t-1.0000\\t1.0000\\n\\n4\\t1.0000\\t-1.0000\\t1.0000\\n\\n\\nSolution: x=1.000, y=-1.000 and z = 1.000\\n'"
            ],
            "application/vnd.google.colaboratory.intrinsic+json": {
              "type": "string"
            }
          },
          "metadata": {},
          "execution_count": 3
        }
      ]
    }
  ]
}