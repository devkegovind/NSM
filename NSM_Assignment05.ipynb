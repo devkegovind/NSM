{
  "nbformat": 4,
  "nbformat_minor": 0,
  "metadata": {
    "colab": {
      "provenance": [],
      "authorship_tag": "ABX9TyOpxSHtrQjqrMmFWeC7xb1f",
      "include_colab_link": true
    },
    "kernelspec": {
      "name": "python3",
      "display_name": "Python 3"
    },
    "language_info": {
      "name": "python"
    }
  },
  "cells": [
    {
      "cell_type": "markdown",
      "metadata": {
        "id": "view-in-github",
        "colab_type": "text"
      },
      "source": [
        "<a href=\"https://colab.research.google.com/github/devkegovind/NSM/blob/main/NSM_Assignment05.ipynb\" target=\"_parent\"><img src=\"https://colab.research.google.com/assets/colab-badge.svg\" alt=\"Open In Colab\"/></a>"
      ]
    },
    {
      "cell_type": "markdown",
      "source": [
        "<h1 align='center'><b>ASSIGNMENT NO.5</b></h1>\n",
        "\n",
        "---\n",
        "<h2 align='center'><b>5.NUMERICAL INTEGRATION</b></h2>\n",
        "\n",
        "---\n",
        "<h3 align='center'><b>A.NUMERICAL INTEGRATION BY USING TRAPEZOIDAL METHOD.</b></h3>\n",
        "\n",
        "---\n",
        "<h4 align='justify'><b>AIM: To Determine Solution Of The Equation By Trapezoidal Method</b></h4>\n",
        "\n",
        "---\n",
        "<h4 align='justify'>Problem Statement: To find the Integration of the given equation by using Trapezoidal Method.</h4>\n",
        "\n",
        "<h4 align='justify'>Solution: Python Program for Trapezoidal Method.</h4>"
      ],
      "metadata": {
        "id": "7Sz03fKkD1kx"
      }
    },
    {
      "cell_type": "code",
      "execution_count": null,
      "metadata": {
        "colab": {
          "base_uri": "https://localhost:8080/",
          "height": 126
        },
        "id": "CG2GntD_D0bj",
        "outputId": "aedefcc2-21de-431b-f726-6be0cc7c4d0e"
      },
      "outputs": [
        {
          "output_type": "stream",
          "name": "stdout",
          "text": [
            "=======================OUTPUT OF THE PROGRAM==========================\n",
            "Enter lower limit of integration: 0\n",
            "Enter upper limit of integration: 1\n",
            "Enter number of sub intervals: 6\n",
            "Integration result by Trapezoidal method is: 0.784241\n"
          ]
        },
        {
          "output_type": "execute_result",
          "data": {
            "text/plain": [
              "'\\nEnter lower limit of integration: 0\\nEnter upper limit of integration: 1\\nEnter number of sub intervals: 6\\n'"
            ],
            "application/vnd.google.colaboratory.intrinsic+json": {
              "type": "string"
            }
          },
          "metadata": {},
          "execution_count": 1
        }
      ],
      "source": [
        "print(\"=======================OUTPUT OF THE PROGRAM==========================\")\n",
        "\n",
        "# Trapezoidal Method\n",
        "\n",
        "# Define function to integrate\n",
        "def f(x):\n",
        "    return 1/(1 + x**2)\n",
        "\n",
        "# Implementing trapezoidal method\n",
        "def trapezoidal(x0,xn,n):\n",
        "    # calculating step size\n",
        "    h = (xn - x0) / n\n",
        "    \n",
        "    # Finding sum \n",
        "    integration = f(x0) + f(xn)\n",
        "    \n",
        "    for i in range(1,n):\n",
        "        k = x0 + i*h\n",
        "        integration = integration + 2 * f(k)\n",
        "    \n",
        "    # Finding final integration value\n",
        "    integration = integration * h/2\n",
        "    \n",
        "    return integration\n",
        "    \n",
        "# Input section\n",
        "lower_limit = float(input(\"Enter lower limit of integration: \"))\n",
        "upper_limit = float(input(\"Enter upper limit of integration: \"))\n",
        "sub_interval = int(input(\"Enter number of sub intervals: \"))\n",
        "\n",
        "# Call trapezoidal() method and get result\n",
        "result = trapezoidal(lower_limit, upper_limit, sub_interval)\n",
        "print(\"Integration result by Trapezoidal method is: %0.6f\" % (result) )\n",
        "\"\"\"\n",
        "Enter lower limit of integration: 0\n",
        "Enter upper limit of integration: 1\n",
        "Enter number of sub intervals: 6\n",
        "\"\"\""
      ]
    },
    {
      "cell_type": "markdown",
      "source": [
        "<h1 align='center'><b>ASSIGNMENT NO.5</b></h1>\n",
        "\n",
        "---\n",
        "<h2 align='center'><b>5.NUMERICAL INTEGRATION</b></h2>\n",
        "\n",
        "---\n",
        "<h3 align='center'><b>B.NUMERICAL INTEGRATION BY USING SIMPSON'S 1/3 RULE.</b></h3>\n",
        "\n",
        "---\n",
        "<h4 align='justify'><b>AIM: To Determine Solution Of The Equation By Simpson's 1/3 Rule.</b></h4>\n",
        "\n",
        "---\n",
        "<h4 align='justify'>Problem Statement: To find the Integration of the given equation by using TSimpson's 1/3 Rule.</h4>\n",
        "\n",
        "<h4 align='justify'>Solution:Python Program for Simpson's 1/3 Rule.</h4>"
      ],
      "metadata": {
        "id": "FzoMwbloECxb"
      }
    },
    {
      "cell_type": "code",
      "source": [
        "# Simpson's 1/3 Rule\n",
        "\n",
        "# Define function to integrate\n",
        "def f(x):\n",
        "    return 1/(1 + x**2)\n",
        "\n",
        "# Implementing Simpson's 1/3 \n",
        "def simpson13(x0,xn,n):\n",
        "    # calculating step size\n",
        "    h = (xn - x0) / n\n",
        "    \n",
        "    # Finding sum \n",
        "    integration = f(x0) + f(xn)\n",
        "    \n",
        "    for i in range(1,n):\n",
        "        k = x0 + i*h\n",
        "        \n",
        "        if i%2 == 0:\n",
        "            integration = integration + 2 * f(k)\n",
        "        else:\n",
        "            integration = integration + 4 * f(k)\n",
        "    \n",
        "    # Finding final integration value\n",
        "    integration = integration * h/3\n",
        "    \n",
        "    return integration\n",
        "    \n",
        "# Input section\n",
        "lower_limit = float(input(\"Enter lower limit of integration: \"))\n",
        "upper_limit = float(input(\"Enter upper limit of integration: \"))\n",
        "sub_interval = int(input(\"Enter number of sub intervals: \"))\n",
        "\n",
        "# Call trapezoidal() method and get result\n",
        "result = simpson13(lower_limit, upper_limit, sub_interval)\n",
        "print(\"Integration result by Simpson's 1/3 method is: %0.6f\" % (result) )\n",
        "'''\n",
        "Output\n",
        "Enter lower limit of integration: 0\n",
        "Enter upper limit of integration: 1\n",
        "Enter number of sub intervals: 6\n",
        "Integration result by Simpson's 1/3 method is: 0.785398\n",
        "'''"
      ],
      "metadata": {
        "colab": {
          "base_uri": "https://localhost:8080/",
          "height": 126
        },
        "id": "QUjUV_9ED5D1",
        "outputId": "99e25781-7eee-48cd-a353-12266d15b370"
      },
      "execution_count": null,
      "outputs": [
        {
          "output_type": "stream",
          "name": "stdout",
          "text": [
            "Enter lower limit of integration: 0\n",
            "Enter upper limit of integration: 1\n",
            "Enter number of sub intervals: 6\n",
            "Integration result by Simpson's 1/3 method is: 0.785398\n"
          ]
        },
        {
          "output_type": "execute_result",
          "data": {
            "text/plain": [
              "\"\\nOutput\\nEnter lower limit of integration: 0\\nEnter upper limit of integration: 1\\nEnter number of sub intervals: 6\\nIntegration result by Simpson's 1/3 method is: 0.785398\\n\""
            ],
            "application/vnd.google.colaboratory.intrinsic+json": {
              "type": "string"
            }
          },
          "metadata": {},
          "execution_count": 2
        }
      ]
    }
  ]
}