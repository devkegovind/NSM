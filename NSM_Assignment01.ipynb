{
  "nbformat": 4,
  "nbformat_minor": 0,
  "metadata": {
    "colab": {
      "provenance": [],
      "authorship_tag": "ABX9TyOcX3m16VleKDqpqGaMmS3T",
      "include_colab_link": true
    },
    "kernelspec": {
      "name": "python3",
      "display_name": "Python 3"
    },
    "language_info": {
      "name": "python"
    }
  },
  "cells": [
    {
      "cell_type": "markdown",
      "metadata": {
        "id": "view-in-github",
        "colab_type": "text"
      },
      "source": [
        "<a href=\"https://colab.research.google.com/github/devkegovind/NSM/blob/main/NSM_Assignment01.ipynb\" target=\"_parent\"><img src=\"https://colab.research.google.com/assets/colab-badge.svg\" alt=\"Open In Colab\"/></a>"
      ]
    },
    {
      "cell_type": "markdown",
      "source": [
        "<h1 align='center'><b>ASSIGNMENT NO.1</b></h1>\n",
        "<h2 align='center'><b>1.ROOTS OF EQUATIONS</b></h2>\n",
        "<h3 align='center'><b>A.ROOT OF EQUATION BY USING BISECTION METHOD</b></h3>\n",
        "<h4 align='justify'><b>AIM: To Determine The Root Of The Equation By Using Bisection Method.(Based on Accuracy Criteria)</b></h4>\n",
        "<h4 align='justify'>Problem Statement: Determine the root of the $ x^3 - 4x + 1 = 0 $ Using Bi-Section method with accuracy 0.01.</h4>\n",
        "<h4 align='justify'>Solution: Python Program for Bisection Method (Based on Accuracy Criteria)</h4>"
      ],
      "metadata": {
        "id": "PQDl_UjJGSHv"
      }
    },
    {
      "cell_type": "code",
      "execution_count": null,
      "metadata": {
        "colab": {
          "base_uri": "https://localhost:8080/",
          "height": 325
        },
        "id": "LaYSWZn1GRAQ",
        "outputId": "819e731a-25f5-4ca1-a862-110e54996230"
      },
      "outputs": [
        {
          "output_type": "stream",
          "name": "stdout",
          "text": [
            "First Guess: 0\n",
            "Second Guess: 1\n",
            "Accuracy: 0.01\n",
            "\n",
            "\n",
            "*** BISECTION METHOD IMPLEMENTATION ***\n",
            "Iteration-1, x2 = 0.500000 and f(x2) = -0.875000\n",
            "Iteration-2, x2 = 0.250000 and f(x2) = 0.015625\n",
            "Iteration-3, x2 = 0.375000 and f(x2) = -0.447266\n",
            "Iteration-4, x2 = 0.312500 and f(x2) = -0.219482\n",
            "Iteration-5, x2 = 0.281250 and f(x2) = -0.102753\n",
            "Iteration-6, x2 = 0.265625 and f(x2) = -0.043758\n",
            "Iteration-7, x2 = 0.257812 and f(x2) = -0.014114\n",
            "Iteration-8, x2 = 0.253906 and f(x2) = 0.000744\n",
            "\n",
            "Required Root is : 0.25390625\n"
          ]
        },
        {
          "output_type": "execute_result",
          "data": {
            "text/plain": [
              "'\\nFirst Guess: 0\\nSecond Guess: 1\\nAccuracy: 0.01\\n\\n'"
            ],
            "application/vnd.google.colaboratory.intrinsic+json": {
              "type": "string"
            }
          },
          "metadata": {},
          "execution_count": 2
        }
      ],
      "source": [
        "# Defining Function\n",
        "def f(x):\n",
        "    return x**3 -4*x + 1\n",
        "\n",
        "# Implementing Bisection Method\n",
        "def bisection(x0,x1,a):\n",
        "    step = 1\n",
        "    print('\\n\\n*** BISECTION METHOD IMPLEMENTATION ***')\n",
        "    condition = True\n",
        "    while condition:\n",
        "        x2 = (x0 + x1)/2\n",
        "        print('Iteration-%d, x2 = %0.6f and f(x2) = %0.6f' % (step, x2, f(x2)))\n",
        "\n",
        "        if f(x0) * f(x2) < 0:\n",
        "            x1 = x2\n",
        "        else:\n",
        "            x0 = x2\n",
        "        \n",
        "        step = step + 1\n",
        "        condition = abs(f(x2)) > a\n",
        "\n",
        "    print('\\nRequired Root is : %0.8f' % x2)\n",
        "\n",
        "\n",
        "# Input Section\n",
        "x0 = input('First Guess: ')\n",
        "x1 = input('Second Guess: ')\n",
        "a = input('Accuracy: ')\n",
        "\n",
        "# Converting input to float\n",
        "x0 = float(x0)\n",
        "x1 = float(x1)\n",
        "a = float(a)\n",
        "\n",
        "#Note: You can combine above two section like this\n",
        "# x0 = float(input('First Guess: '))\n",
        "# x1 = float(input('Second Guess: '))\n",
        "# a = float(input('Accuracy: '))\n",
        "\n",
        "\n",
        "# Checking Correctness of initial guess values and bisecting\n",
        "if f(x0) * f(x1) > 0.0:\n",
        "    print('Given guess values do not bracket the root.')\n",
        "    print('Try Again with different guess values.')\n",
        "else:\n",
        "    bisection(x0,x1,a)\n",
        "\n",
        "# input \n",
        "'''\n",
        "First Guess: 0\n",
        "Second Guess: 1\n",
        "Accuracy: 0.01\n",
        "\n",
        "'''"
      ]
    },
    {
      "cell_type": "markdown",
      "source": [
        "<h1 align='center'><b>ASSIGNMENT NO.1</b></h1>\n",
        "\n",
        "\n",
        "\n",
        "<h2 align='center'><b>1.ROOTS OF EQUATIONS</b></h2>\n",
        "\n",
        "\n",
        "\n",
        "<h3 align='justify'><b>B.ROOT OF EQUATION BY USING BISECTION METHOD(BASED ON ITERATION BASED)</b></h3>\n",
        "\n",
        "\n",
        "\n",
        "<h4 align='justify'><b>AIM: To Determine The Root Of The Equation By Using Bisection Method.(Based on Iteration Criteria)</b></h4>\n",
        "\n",
        "\n",
        "\n",
        "<h4 align='justify'>Problem Statement: Determine the root of the equation  $ -0.9 x ^2 + 1.7x + 2.5 $ Using Bi-Section method. Do iteration 3.</h4>\n",
        "\n",
        "<h4 align='justify'>Solution: Python Program for Bisection Method (Based on Iteration Criteria)</h4>"
      ],
      "metadata": {
        "id": "gDVFOUlpLo8c"
      }
    },
    {
      "cell_type": "code",
      "source": [
        "import numpy as np\n",
        "import matplotlib.pyplot as plt\n",
        " \n",
        " \n",
        " \n",
        "# Define the function whose roots are required\n",
        "def f(x):\n",
        "    \n",
        "    return -0.9 * x * x + 1.7 * x + 2.5\n",
        " \n",
        "maxiter = 3 # Max. number of iterations\n",
        "eps = 10E-6  # Acceptable Error (termination criteria)\n",
        "a = 2.8        # Guess Value for the lower bound on the root\n",
        "b = 3        # Guess Value for the upper bound on the root\n",
        " \n",
        "# Check if these values bracket the root or not?\n",
        "if f(a)*f(b)>0:\n",
        "    print('The given guesses do not bracket the root.')\n",
        "    exit()\n",
        " \n",
        "# Print the table header\n",
        "print('--------------------------------------------------------------------------')\n",
        "print('iter \\t\\t a \\t\\t b \\t\\t c \\t\\t f(c)        ')\n",
        "print('--------------------------------------------------------------------------')\n",
        " \n",
        "# Begin iterations for bisection method\n",
        "for i in range(maxiter):\n",
        "    # Calculate the value of the root at the ith step\n",
        "    c = (a+b)/2\n",
        "  \n",
        "    # Print some values for the table\n",
        "    print(str(i+1)+'\\t\\t% 10.8f\\t% 10.8f\\t% 10.8f\\t% 10.8f\\t' %(a, b, c, f(c)))\n",
        " \n",
        "    # Check if the root has been found with acceptable error or not?\n",
        "    if np.abs(f(c))<eps:\n",
        "        print('--------------------------------------------------------------------------')\n",
        "        print('Root found : '+str(c))\n",
        "        exit()\n",
        "    # Check whether the root lies between a and c\n",
        "    if f(a)*f(c)<0:\n",
        "        # Change the upper bound\n",
        "        b = c\n",
        "    else: # The root lies between c and b\n",
        "        # Change the lower bound\n",
        "        a = c\n",
        " \n",
        " \n",
        "     \n",
        "     \n",
        "print('--------------------------------------------------------------------------')\n",
        "if i==maxiter-1:\n",
        "    print('\\n\\nMax iterations reached!')\n",
        "    print('Approximaiton to the Root after max iterations is : '+str(c))"
      ],
      "metadata": {
        "colab": {
          "base_uri": "https://localhost:8080/"
        },
        "id": "hxXiX1e8KJ_C",
        "outputId": "c4b20c7f-e978-4115-e16e-f4347e3ad69c"
      },
      "execution_count": null,
      "outputs": [
        {
          "output_type": "stream",
          "name": "stdout",
          "text": [
            "--------------------------------------------------------------------------\n",
            "iter \t\t a \t\t b \t\t c \t\t f(c)        \n",
            "--------------------------------------------------------------------------\n",
            "1\t\t 2.80000000\t 3.00000000\t 2.90000000\t-0.13900000\t\n",
            "2\t\t 2.80000000\t 2.90000000\t 2.85000000\t 0.03475000\t\n",
            "3\t\t 2.85000000\t 2.90000000\t 2.87500000\t-0.05156250\t\n",
            "--------------------------------------------------------------------------\n",
            "\n",
            "\n",
            "Max iterations reached!\n",
            "Approximaiton to the Root after max iterations is : 2.875\n"
          ]
        }
      ]
    },
    {
      "cell_type": "code",
      "source": [
        "!jupyter nbconvert --to pdf /content/NSM_Assignment01.ipynb"
      ],
      "metadata": {
        "id": "0S60B_bxSol6"
      },
      "execution_count": null,
      "outputs": []
    }
  ]
}