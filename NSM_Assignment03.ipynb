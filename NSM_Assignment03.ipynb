{
  "nbformat": 4,
  "nbformat_minor": 0,
  "metadata": {
    "colab": {
      "provenance": [],
      "authorship_tag": "ABX9TyO2WuF3FGb2zfYFs6UaUjeE",
      "include_colab_link": true
    },
    "kernelspec": {
      "name": "python3",
      "display_name": "Python 3"
    },
    "language_info": {
      "name": "python"
    }
  },
  "cells": [
    {
      "cell_type": "markdown",
      "metadata": {
        "id": "view-in-github",
        "colab_type": "text"
      },
      "source": [
        "<a href=\"https://colab.research.google.com/github/devkegovind/NSM/blob/main/NSM_Assignment03.ipynb\" target=\"_parent\"><img src=\"https://colab.research.google.com/assets/colab-badge.svg\" alt=\"Open In Colab\"/></a>"
      ]
    },
    {
      "cell_type": "markdown",
      "source": [
        "<h1 align='center'><b>ASSIGNMENT NO.3</b></h1>\n",
        "\n",
        "---\n",
        "<h2 align='center'><b>3.ORDINARY DIFFERENTIAL EQUATIONS</b></h2>\n",
        "\n",
        "---\n",
        "<h3 align='center'><b>A.ORDINARY DIFFERENTIAL BY USING EULER'S METHOD</b></h3>\n",
        "\n",
        "---\n",
        "<h4 align='justify'><b>AIM: To Determine Solution Of The Ordinary Differential Equation By Using Euler's Method.</b></h4>\n",
        "\n",
        "---\n",
        "<h4 align='justify'>Problem Statement: for $ {dy/dx} = x + y $ with initial condition $y = 1$ for $x = 0 i.e. y(0) = 1$ and we are trying to evaluate this differential equation at $y = 1$. ( Here $y = 1 i.e. y(1) = ?$ is our calculation point). By using Euler's Method.</h4>\n",
        "\n",
        "<h4 align='justify'>Solution: Python Program for Euler's Method\n",
        "In this Python program $x0$ & $y0$ represents initial condition. xn is calculation point on which value of yn corresponding to $xn$ is to be calculated using Euler's method. step represents number of finite step before reaching to $xn$.</h4>"
      ],
      "metadata": {
        "id": "EZXnqcBjBsJ0"
      }
    },
    {
      "cell_type": "code",
      "execution_count": null,
      "metadata": {
        "colab": {
          "base_uri": "https://localhost:8080/",
          "height": 687
        },
        "id": "tsKdhwHVBrYS",
        "outputId": "43c442bc-56e2-4967-c199-0adf823d6197"
      },
      "outputs": [
        {
          "output_type": "stream",
          "name": "stdout",
          "text": [
            "=======================OUTPUT OF THE PROGRAM==========================\n",
            "Enter initial conditions:\n",
            "x0 = 0\n",
            "y0 = 1\n",
            "Enter calculation point: \n",
            "xn = 1\n",
            "Enter number of steps:\n",
            "Number of steps = 10\n",
            "\n",
            "-----------SOLUTION-----------\n",
            "------------------------------\n",
            "x0\ty0\tslope\tyn\n",
            "------------------------------\n",
            "0.0000\t1.0000\t1.0000\t1.1000\n",
            "------------------------------\n",
            "0.1000\t1.1000\t1.2000\t1.2200\n",
            "------------------------------\n",
            "0.2000\t1.2200\t1.4200\t1.3620\n",
            "------------------------------\n",
            "0.3000\t1.3620\t1.6620\t1.5282\n",
            "------------------------------\n",
            "0.4000\t1.5282\t1.9282\t1.7210\n",
            "------------------------------\n",
            "0.5000\t1.7210\t2.2210\t1.9431\n",
            "------------------------------\n",
            "0.6000\t1.9431\t2.5431\t2.1974\n",
            "------------------------------\n",
            "0.7000\t2.1974\t2.8974\t2.4872\n",
            "------------------------------\n",
            "0.8000\t2.4872\t3.2872\t2.8159\n",
            "------------------------------\n",
            "0.9000\t2.8159\t3.7159\t3.1875\n",
            "------------------------------\n",
            "\n",
            "At x=1.0000, y=3.1875\n"
          ]
        },
        {
          "output_type": "execute_result",
          "data": {
            "text/plain": [
              "'\\nOUTPUT OF THE PROGRAM==========================\\nEnter initial conditions:\\nx0 = 0\\ny0 = 1\\nEnter calculation point: \\nxn = 1\\nEnter number of steps:\\nNumber of steps = 10\\n'"
            ],
            "application/vnd.google.colaboratory.intrinsic+json": {
              "type": "string"
            }
          },
          "metadata": {},
          "execution_count": 1
        }
      ],
      "source": [
        "print(\"=======================OUTPUT OF THE PROGRAM==========================\")\n",
        "# Euler method python program\n",
        "\n",
        "# function to be solved\n",
        "def f(x,y):\n",
        "    return x+y\n",
        "\n",
        "# or\n",
        "# f = lambda x: x+y\n",
        "\n",
        "# Euler method\n",
        "def euler(x0,y0,xn,n):\n",
        "    \n",
        "    # Calculating step size\n",
        "    h = (xn-x0)/n\n",
        "    \n",
        "    print('\\n-----------SOLUTION-----------')\n",
        "    print('------------------------------')    \n",
        "    print('x0\\ty0\\tslope\\tyn')\n",
        "    print('------------------------------')\n",
        "    for i in range(n):\n",
        "        slope = f(x0, y0)\n",
        "        yn = y0 + h * slope\n",
        "        print('%.4f\\t%.4f\\t%0.4f\\t%.4f'% (x0,y0,slope,yn) )\n",
        "        print('------------------------------')\n",
        "        y0 = yn\n",
        "        x0 = x0+h\n",
        "    \n",
        "    print('\\nAt x=%.4f, y=%.4f' %(xn,yn))\n",
        "\n",
        "# Inputs\n",
        "print('Enter initial conditions:')\n",
        "x0 = float(input('x0 = '))\n",
        "y0 = float(input('y0 = '))\n",
        "\n",
        "print('Enter calculation point: ')\n",
        "xn = float(input('xn = '))\n",
        "\n",
        "print('Enter number of steps:')\n",
        "step = int(input('Number of steps = '))\n",
        "\n",
        "# Euler method call\n",
        "euler(x0,y0,xn,step)\n",
        "\n",
        "'''\n",
        "OUTPUT OF THE PROGRAM==========================\n",
        "Enter initial conditions:\n",
        "x0 = 0\n",
        "y0 = 1\n",
        "Enter calculation point: \n",
        "xn = 1\n",
        "Enter number of steps:\n",
        "Number of steps = 10\n",
        "'''"
      ]
    },
    {
      "cell_type": "markdown",
      "source": [
        "<h1 align='center'><b>ASSIGNMENT NO.3</b></h1>\n",
        "\n",
        "---\n",
        "<h2 align='center'><b>3.ORDINARY DIFFERENTIAL EQUATIONS</b></h2>\n",
        "\n",
        "---\n",
        "<h3 align='center'><b>B.ORDINARY DIFFERENTIAL BY USING RUNGE KUTTA(RK) FOURTH ORDER METHOD</b></h3>\n",
        "\n",
        "---\n",
        "<h4 align='justify'><b>AIM: To Determine Solution Of The Ordinary Differential Equation By Using Runge Kutta(RK) Fourth Order Method.</b></h4>\n",
        "\n",
        "---\n",
        "<h4 align='justify'>Problem Statement: for $ {dy/dx} = x + y $ with initial condition y = 1 for x = 0 i.e. y(0) = 1 and we are trying to evaluate this differential equation at y = 1. ( Here y = 1 using RK4 method ( Here y = 1 i.e. y(1) = ? is our calculation point).</h4>\n",
        "\n",
        "<h4 align='justify'>Solution: Python Program for Runge Kutta (RK) fourth order Method\n",
        "This program implements Runge Kutta (RK) fourth order method for solving ordinary differential equation in Python programming language.In this Python program x0 & y0 represents initial condition. xn is calculation point on which value of yn corresponding to xn is to be calculated using Runge Kutta method. step represents number of finite step before reaching to xn.</h4>\n",
        "\n"
      ],
      "metadata": {
        "id": "ZshjCDn1CDRi"
      }
    },
    {
      "cell_type": "code",
      "source": [
        "print(\"=======================OUTPUT OF THE PROGRAM==========================\")\n",
        "# RK-4 method python program\n",
        "\n",
        "# function to be solved\n",
        "def f(x,y):\n",
        "    return x+y\n",
        "\n",
        "# or\n",
        "# f = lambda x: x+y\n",
        "\n",
        "# RK-4 method\n",
        "def rk4(x0,y0,xn,n):\n",
        "    \n",
        "    # Calculating step size\n",
        "    h = (xn-x0)/n\n",
        "    \n",
        "    print('\\n--------SOLUTION--------')\n",
        "    print('-------------------------')    \n",
        "    print('x0\\ty0\\tyn')\n",
        "    print('-------------------------')\n",
        "    for i in range(n):\n",
        "        k1 = h * (f(x0, y0))\n",
        "        k2 = h * (f((x0+h/2), (y0+k1/2)))\n",
        "        k3 = h * (f((x0+h/2), (y0+k2/2)))\n",
        "        k4 = h * (f((x0+h), (y0+k3)))\n",
        "        k = (k1+2*k2+2*k3+k4)/6\n",
        "        yn = y0 + k\n",
        "        print('%.4f\\t%.4f\\t%.4f'% (x0,y0,yn) )\n",
        "        print('-------------------------')\n",
        "        y0 = yn\n",
        "        x0 = x0+h\n",
        "    \n",
        "    print('\\nAt x=%.4f, y=%.4f' %(xn,yn))\n",
        "\n",
        "# Inputs\n",
        "print('Enter initial conditions:')\n",
        "x0 = float(input('x0 = '))\n",
        "y0 = float(input('y0 = '))\n",
        "\n",
        "print('Enter calculation point: ')\n",
        "xn = float(input('xn = '))\n",
        "\n",
        "print('Enter number of steps:')\n",
        "n = int(input('Number of steps = '))\n",
        "\n",
        "\n",
        "# runge kutta 4th order method call\n",
        "rk4(x0,y0,xn,n)\n",
        "\n",
        "\"\"\"\n",
        "Enter initial conditions:\n",
        "x0 = 0\n",
        "y0 = 1\n",
        "Enter calculation point: \n",
        "xn = 1\n",
        "Enter number of steps:\n",
        "Number of steps = 2\n",
        "\"\"\"\n"
      ],
      "metadata": {
        "colab": {
          "base_uri": "https://localhost:8080/",
          "height": 380
        },
        "id": "dw4XWdspCEUm",
        "outputId": "76b8a246-b8ef-4c1c-f258-16ddbdcac653"
      },
      "execution_count": null,
      "outputs": [
        {
          "output_type": "stream",
          "name": "stdout",
          "text": [
            "=======================OUTPUT OF THE PROGRAM==========================\n",
            "Enter initial conditions:\n",
            "x0 = 0\n",
            "y0 = 1\n",
            "Enter calculation point: \n",
            "xn = 1\n",
            "Enter number of steps:\n",
            "Number of steps = 2\n",
            "\n",
            "--------SOLUTION--------\n",
            "-------------------------\n",
            "x0\ty0\tyn\n",
            "-------------------------\n",
            "0.0000\t1.0000\t1.7969\n",
            "-------------------------\n",
            "0.5000\t1.7969\t3.4347\n",
            "-------------------------\n",
            "\n",
            "At x=1.0000, y=3.4347\n"
          ]
        },
        {
          "output_type": "execute_result",
          "data": {
            "text/plain": [
              "'\\nEnter initial conditions:\\nx0 = 0\\ny0 = 1\\nEnter calculation point: \\nxn = 1\\nEnter number of steps:\\nNumber of steps = 2\\n'"
            ],
            "application/vnd.google.colaboratory.intrinsic+json": {
              "type": "string"
            }
          },
          "metadata": {},
          "execution_count": 4
        }
      ]
    }
  ]
}