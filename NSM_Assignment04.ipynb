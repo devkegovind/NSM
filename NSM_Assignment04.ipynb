{
  "nbformat": 4,
  "nbformat_minor": 0,
  "metadata": {
    "colab": {
      "provenance": [],
      "authorship_tag": "ABX9TyMyTazXeykpsWkfnyDXgqEg",
      "include_colab_link": true
    },
    "kernelspec": {
      "name": "python3",
      "display_name": "Python 3"
    },
    "language_info": {
      "name": "python"
    }
  },
  "cells": [
    {
      "cell_type": "markdown",
      "metadata": {
        "id": "view-in-github",
        "colab_type": "text"
      },
      "source": [
        "<a href=\"https://colab.research.google.com/github/devkegovind/NSM/blob/main/NSM_Assignment04.ipynb\" target=\"_parent\"><img src=\"https://colab.research.google.com/assets/colab-badge.svg\" alt=\"Open In Colab\"/></a>"
      ]
    },
    {
      "cell_type": "markdown",
      "source": [
        "<h1 align='center'><b>ASSIGNMENT NO.4</b></h1>\n",
        "\n",
        "---\n",
        "<h2 align='center'><b>4.CURVE FITTING</b></h2>\n",
        "\n",
        "---\n",
        "<h3 align='center'><b>A.USING LEAST SQUARE METHOD TO FIND CURVE OF BEST FIT OF TYPE $ Y= A + BX $.</b></h3>\n",
        "\n",
        "---\n",
        "<h4 align='justify'><b>AIM: To Determine Solution Of The Equation of the Straight Line.</b></h4>\n",
        "\n",
        "---\n",
        "<h4 align='justify'>Problem Statement: To find the best fit curve of the given data poitns. By using Least Square Method.</h4>\n",
        "\n",
        "<h4 align='justify'>Solution: Python Program for Best Fit Line.</h4>"
      ],
      "metadata": {
        "id": "T2H4jB7kDPUf"
      }
    },
    {
      "cell_type": "code",
      "execution_count": null,
      "metadata": {
        "colab": {
          "base_uri": "https://localhost:8080/",
          "height": 343
        },
        "id": "qHxDK0qyDOp3",
        "outputId": "a0375b32-195c-4f30-c958-b541f841d3ce"
      },
      "outputs": [
        {
          "output_type": "stream",
          "name": "stdout",
          "text": [
            "=======================OUTPUT OF THE PROGRAM==========================\n",
            "How many data points? 4\n",
            "Enter data:\n",
            "x[0]= 1\n",
            "y[0]= 2\n",
            "x[1]= 2\n",
            "y[1]= 3\n",
            "x[2]= 3\n",
            "y[2]= 4\n",
            "x[3]= 4\n",
            "y[3]= 5\n",
            "\n",
            "Coefficients are:\n",
            "a:  1.0\n",
            "b:  1.0\n",
            "And equation is: y = 1.0000 + 1.0000 x\n"
          ]
        },
        {
          "output_type": "execute_result",
          "data": {
            "text/plain": [
              "'\\nOutput\\nHow many data points? 4\\nEnter data:\\nx[0]= 1\\ny[0]= 2\\nx[1]= 2\\ny[1]= 3\\nx[2]= 3\\ny[2]= 4\\nx[3]= 4\\ny[3]= 5\\n\\nCoefficients are:\\na:  1.0\\nb:  1.0\\nAnd equation is: y = 1.0000 + 1.0000 x\\n\\n'"
            ],
            "application/vnd.google.colaboratory.intrinsic+json": {
              "type": "string"
            }
          },
          "metadata": {},
          "execution_count": 1
        }
      ],
      "source": [
        "print(\"=======================OUTPUT OF THE PROGRAM==========================\")\n",
        "# This is naive approach, there are shortcut methods for doing it!\n",
        "# Linear regression method in Python\n",
        "# Fitting y = a + bx to given n data points\n",
        "import numpy as np\n",
        "\n",
        "# Reading value of n\n",
        "n = int(input(\"How many data points? \"))\n",
        "\n",
        "# Creating numpy array x & y to store n data points\n",
        "x = np.zeros(n)\n",
        "y = np.zeros(n)\n",
        "\n",
        "# Reading data\n",
        "print(\"Enter data:\")\n",
        "for i in range(n):\n",
        "    x[i] = float(input(\"x[\"+str(i)+\"]= \"))\n",
        "    y[i] = float(input(\"y[\"+str(i)+\"]= \"))\n",
        "    \n",
        "# Finding required sum for least square methods\n",
        "sumX,sumX2,sumY,sumXY = 0,0,0,0\n",
        "for i in range(n):\n",
        "    sumX = sumX + x[i]\n",
        "    sumX2 = sumX2 + x[i]*x[i]\n",
        "    sumY = sumY + y[i]\n",
        "    sumXY = sumXY + x[i]*y[i]\n",
        "\n",
        "# Finding coefficients a and b\n",
        "b = (n*sumXY-sumX*sumY)/(n*sumX2-sumX*sumX)\n",
        "a = (sumY - b*sumX)/n\n",
        "\n",
        "# Displaying coefficients a, b & equation\n",
        "print(\"\\nCoefficients are:\")\n",
        "print(\"a: \", a)\n",
        "print(\"b: \", b)\n",
        "print(\"And equation is: y = %0.4f + %0.4f x\" %(a,b))\n",
        "\n",
        "'''\n",
        "Output\n",
        "How many data points? 4\n",
        "Enter data:\n",
        "x[0]= 1\n",
        "y[0]= 2\n",
        "x[1]= 2\n",
        "y[1]= 3\n",
        "x[2]= 3\n",
        "y[2]= 4\n",
        "x[3]= 4\n",
        "y[3]= 5\n",
        "\n",
        "Coefficients are:\n",
        "a:  1.0\n",
        "b:  1.0\n",
        "And equation is: y = 1.0000 + 1.0000 x\n",
        "\n",
        "'''"
      ]
    },
    {
      "cell_type": "markdown",
      "source": [
        "<h1 align='center'><b>ASSIGNMENT NO.4</b></h1>\n",
        "\n",
        "---\n",
        "<h2 align='center'><b>4.CURVE FITTING</b></h2>\n",
        "\n",
        "---\n",
        "<h3 align='center'><b>B.USING LEAST SQUARE METHOD TO FIND CURVE OF BEST FIT OF TYPE $ y = ax^b</b></h3>\n",
        "\n",
        "---\n",
        "<h4 align='justify'><b>AIM: To Determine Solution Of The Equation.</b></h4>\n",
        "\n",
        "---\n",
        "<h4 align='justify'>Problem Statement: To find the best fit curve of the given data poitns. By using Least Square Method.</h4>\n",
        "\n",
        "<h4 align='justify'>Solution: Python Program for Best Fit Curve.</h4>"
      ],
      "metadata": {
        "id": "JUXc8mAPDjjv"
      }
    },
    {
      "cell_type": "code",
      "source": [
        "print(\"=======================OUTPUT OF THE PROGRAM==========================\")\n",
        "\n",
        "# This is naive approach, there are shortcut methods for doing it!\n",
        "# Least square method\n",
        "# Fitting y = ax^b to given n data points\n",
        "import numpy as np\n",
        "\n",
        "# Reading value of n\n",
        "n = int(input(\"How many data points? \"))\n",
        "\n",
        "# Creating numpy array x & y to store n data points\n",
        "x = np.zeros(n)\n",
        "y = np.zeros(n)\n",
        "\n",
        "# Reading data\n",
        "print(\"Enter data:\")\n",
        "for i in range(n):\n",
        "    x[i] = float(input(\"x[\"+str(i)+\"]= \"))\n",
        "    y[i] = float(input(\"y[\"+str(i)+\"]= \"))\n",
        "    \n",
        "# Finding required sum for least square methods\n",
        "sumX,sumX2,sumY,sumXY = 0,0,0,0\n",
        "for i in range(n):\n",
        "    sumX = sumX + np.log(x[i])\n",
        "    sumX2 = sumX2 +np.log(x[i])*np.log(x[i])\n",
        "    sumY = sumY + np.log(y[i])\n",
        "    sumXY = sumXY + np.log(x[i])*np.log(y[i])\n",
        "\n",
        "# Finding coefficients A and B\n",
        "b = (n*sumXY-sumX*sumY)/(n*sumX2-sumX*sumX)\n",
        "A = (sumY - b*sumX)/n\n",
        "\n",
        "# Obtaining a and b\n",
        "a = np.exp(A)\n",
        "\n",
        "\n",
        "# Displaying coefficients a, b & equation\n",
        "print(\"\\nCoefficients are:\")\n",
        "print(\"a: \", a)\n",
        "print(\"b: \", b)\n",
        "print(f\"The Equation is: y = ${a}x^{b}$\")\n",
        "\n",
        "'''\n",
        "Output\n",
        "How many data points? 4\n",
        "Enter data:\n",
        "x[0]= 61\n",
        "y[0]= 350\n",
        "x[1]= 26\n",
        "y[1]= 400\n",
        "x[2]= 7\n",
        "y[2]= 500\n",
        "x[3]= 2.6\n",
        "y[3]= 600\n",
        "\n",
        "Coefficients are:\n",
        "a:  701.9919475945616\n",
        "b:  -0.1708554336187208\n",
        "\n",
        "'''"
      ],
      "metadata": {
        "colab": {
          "base_uri": "https://localhost:8080/",
          "height": 343
        },
        "id": "_3TFY8b7DaFl",
        "outputId": "afd7b73d-f0cf-4019-b49b-9260361f5f59"
      },
      "execution_count": null,
      "outputs": [
        {
          "output_type": "stream",
          "name": "stdout",
          "text": [
            "=======================OUTPUT OF THE PROGRAM==========================\n",
            "How many data points? 4\n",
            "Enter data:\n",
            "x[0]= 61\n",
            "y[0]= 350\n",
            "x[1]= 26\n",
            "y[1]= 400\n",
            "x[2]= 7\n",
            "y[2]= 500\n",
            "x[3]= 2.6\n",
            "y[3]= 600\n",
            "\n",
            "Coefficients are:\n",
            "a:  701.9919475945616\n",
            "b:  -0.1708554336187208\n",
            "The Equation is: y = $701.9919475945616x^-0.1708554336187208$\n"
          ]
        },
        {
          "output_type": "execute_result",
          "data": {
            "text/plain": [
              "'\\nOutput\\nHow many data points? 4\\nEnter data:\\nx[0]= 61\\ny[0]= 350\\nx[1]= 26\\ny[1]= 400\\nx[2]= 7\\ny[2]= 500\\nx[3]= 2.6\\ny[3]= 600\\n\\nCoefficients are:\\na:  701.9919475945616\\nb:  -0.1708554336187208\\n\\n'"
            ],
            "application/vnd.google.colaboratory.intrinsic+json": {
              "type": "string"
            }
          },
          "metadata": {},
          "execution_count": 2
        }
      ]
    }
  ]
}