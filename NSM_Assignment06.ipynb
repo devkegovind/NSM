{
  "nbformat": 4,
  "nbformat_minor": 0,
  "metadata": {
    "colab": {
      "provenance": [],
      "authorship_tag": "ABX9TyPH0PT0YsTSl+v1fZdYECdJ",
      "include_colab_link": true
    },
    "kernelspec": {
      "name": "python3",
      "display_name": "Python 3"
    },
    "language_info": {
      "name": "python"
    }
  },
  "cells": [
    {
      "cell_type": "markdown",
      "metadata": {
        "id": "view-in-github",
        "colab_type": "text"
      },
      "source": [
        "<a href=\"https://colab.research.google.com/github/devkegovind/NSM/blob/main/NSM_Assignment06.ipynb\" target=\"_parent\"><img src=\"https://colab.research.google.com/assets/colab-badge.svg\" alt=\"Open In Colab\"/></a>"
      ]
    },
    {
      "cell_type": "markdown",
      "source": [
        "<h1 align='center'><b>ASSIGNMENT NO.6</b></h1>\n",
        "\n",
        "---\n",
        "<h2 align='center'><b>6.REGRESSION ANALYSIS</b></h2>\n",
        "\n",
        "---\n",
        "<h3 align='center'><b>A.REGRESSION ANALYSIS BY USING LAGRANGE INTERPOLATION METHOD.</b></h3>\n",
        "\n",
        "---\n",
        "<h4 align='justify'><b>AIM: To Determine Solution Of The Equation By Lagrange Interpolation Method.</b></h4>\n",
        "\n",
        "---\n",
        "\n",
        "<h4 align='justify'>Problem Statement: To find the SOLUTION of the given data points by using Lagrange Interpolation Method.</h4>\n",
        "\n",
        "<h4 align='justify'>Solution: Python Program for Lagrange Interpolation Method.</h4>\n",
        "\n",
        "<h4 align='justify'><b>TABLE OF CONTENTS</b></h4>\n",
        "<h4 align='justify'>This program implements Lagrange Interpolation Formula in Python Programming Language.\n",
        "In this Python program, x and y are two array for storing x data and y data respectively. Here we create these array using numpy library. xp is interpolation point given by user and output of Lagrange interpolation method is obtained in yp.</h4>"
      ],
      "metadata": {
        "id": "EpEuqqBMEQrq"
      }
    },
    {
      "cell_type": "code",
      "execution_count": null,
      "metadata": {
        "colab": {
          "base_uri": "https://localhost:8080/",
          "height": 325
        },
        "id": "nIzYPMOYEPKe",
        "outputId": "0334bf77-bef5-45bc-88b4-0e8199f31a2b"
      },
      "outputs": [
        {
          "output_type": "stream",
          "name": "stdout",
          "text": [
            "==================OUTPUT OF PROGRAMME==================================\n",
            "Enter number of data points: 5\n",
            "Enter data for x and y: \n",
            "x[0]=5\n",
            "y[0]=150\n",
            "x[1]=7\n",
            "y[1]=392\n",
            "x[2]=11\n",
            "y[2]=1452\n",
            "x[3]=13\n",
            "y[3]=2366\n",
            "x[4]=17\n",
            "y[4]=5202\n",
            "Enter interpolation point: 9\n",
            "Interpolated value at 9.000 is 810.000.\n"
          ]
        },
        {
          "output_type": "execute_result",
          "data": {
            "text/plain": [
              "'\\nPython Output: Language Interpolation\\nEnter number of data points: 5\\nEnter data for x and y: \\nx[0]=5\\ny[0]=150\\nx[1]=7\\ny[1]=392\\nx[2]=11\\ny[2]=1452\\nx[3]=13\\ny[3]=2366\\nx[4]=17\\ny[4]=5202\\nEnter interpolation point: 9\\nInterpolated value at 9.000 is 810.000.\\n\\n'"
            ],
            "application/vnd.google.colaboratory.intrinsic+json": {
              "type": "string"
            }
          },
          "metadata": {},
          "execution_count": 1
        }
      ],
      "source": [
        "print(\"==================OUTPUT OF PROGRAMME==================================\")\n",
        "\n",
        "# Lagrange Interpolation\n",
        "\n",
        "# Importing NumPy Library\n",
        "import numpy as np\n",
        "\n",
        "# Reading number of unknowns\n",
        "n = int(input('Enter number of data points: '))\n",
        "\n",
        "# Making numpy array of n & n x n size and initializing \n",
        "# to zero for storing x and y value along with differences of y\n",
        "x = np.zeros((n))\n",
        "y = np.zeros((n))\n",
        "\n",
        "\n",
        "# Reading data points\n",
        "print('Enter data for x and y: ')\n",
        "for i in range(n):\n",
        "    x[i] = float(input( 'x['+str(i)+']='))\n",
        "    y[i] = float(input( 'y['+str(i)+']='))\n",
        "\n",
        "\n",
        "# Reading interpolation point\n",
        "xp = float(input('Enter interpolation point: '))\n",
        "\n",
        "# Set interpolated value initially to zero\n",
        "yp = 0\n",
        "\n",
        "# Implementing Lagrange Interpolation\n",
        "for i in range(n):\n",
        "    \n",
        "    p = 1\n",
        "    \n",
        "    for j in range(n):\n",
        "        if i != j:\n",
        "            p = p * (xp - x[j])/(x[i] - x[j])\n",
        "    \n",
        "    yp = yp + p * y[i]    \n",
        "\n",
        "# Displaying output\n",
        "print('Interpolated value at %.3f is %.3f.' % (xp, yp))\n",
        "\n",
        "\"\"\"\n",
        "Python Output: Language Interpolation\n",
        "Enter number of data points: 5\n",
        "Enter data for x and y: \n",
        "x[0]=5\n",
        "y[0]=150\n",
        "x[1]=7\n",
        "y[1]=392\n",
        "x[2]=11\n",
        "y[2]=1452\n",
        "x[3]=13\n",
        "y[3]=2366\n",
        "x[4]=17\n",
        "y[4]=5202\n",
        "Enter interpolation point: 9\n",
        "Interpolated value at 9.000 is 810.000.\n",
        "\n",
        "\"\"\"1"
      ]
    },
    {
      "cell_type": "markdown",
      "source": [
        "<h1 align='center'><b>ASSIGNMENT NO.6</b></h1>\n",
        "\n",
        "---\n",
        "<h2 align='center'><b>6.REGRESSION ANALYSIS</b></h2>\n",
        "\n",
        "---\n",
        "<h3 align='center'><b>B.REGRESSION ANALYSIS BY USING NEWTON'S FORWARD INTERPOLATION.</b></h3>\n",
        "\n",
        "---\n",
        "<h4 align='justify'><b>AIM: To Determine Solution Of The Equation By Newton's Forward Interpolation.</b></h4>\n",
        "\n",
        "---\n",
        "<h4 align='justify'>Problem Statement: To find the SOLUTION of the given data points by using Newton's Forward Interpolation.</h4>\n",
        "\n",
        "<h4 align='justify'>Solution: Python Program for Generate Forward Difference Table.</h4>\n",
        "<h4 align='justify'><b>\n",
        "TABLE OF CONTENTS</b></h4><h4 align='justify'>\n",
        "In numerical analysis, method like Newton's Forward Interpolation relies on Forward Difference Table.\n",
        "In this program, we are going to generate forward difference table in Python programming language.</h4>\n"
      ],
      "metadata": {
        "id": "IESJ2xRFEWIv"
      }
    },
    {
      "cell_type": "code",
      "source": [
        "# Reading number of unknowns\n",
        "n = int(input('Enter number of data points: '))\n",
        "\n",
        "# Making numpy array of n & n x n size and initializing \n",
        "# to zero for storing x and y value along with differences of y\n",
        "x = np.zeros((n))\n",
        "y = np.zeros((n,n))\n",
        "\n",
        "\n",
        "# Reading data points\n",
        "print('Enter data for x and y: ')\n",
        "for i in range(n):\n",
        "    x[i] = float(input( 'x['+str(i)+']='))\n",
        "    y[i][0] = float(input( 'y['+str(i)+']='))\n",
        "    \n",
        "# Generating forward difference table\n",
        "for i in range(1,n):\n",
        "    for j in range(0,n-i):\n",
        "        y[j][i] = y[j+1][i-1] - y[j][i-1]\n",
        "\n",
        "        \n",
        "print('\\nFORWARD DIFFERENCE TABLE\\n');\n",
        "\n",
        "for i in range(0,n):\n",
        "    print('%0.2f' %(x[i]), end='')\n",
        "    for j in range(0, n-i):\n",
        "        print('\\t\\t%0.2f' %(y[i][j]), end='')\n",
        "    print()\n",
        "\n",
        "\n",
        "\n",
        "\"\"\"\n",
        "Enter number of data points: 5\n",
        "Enter data for x and y: \n",
        "x[0]=40\n",
        "y[0]=31\n",
        "x[1]=50\n",
        "y[1]=73\n",
        "x[2]=60\n",
        "y[2]=124\n",
        "x[3]=70\n",
        "y[3]=159\n",
        "x[4]=80\n",
        "y[4]=190\n",
        "\n",
        "\"\"\""
      ],
      "metadata": {
        "colab": {
          "base_uri": "https://localhost:8080/",
          "height": 398
        },
        "id": "Y_7cilv8EXS3",
        "outputId": "bf15a332-d8cb-4979-fc18-1e1d1b963350"
      },
      "execution_count": null,
      "outputs": [
        {
          "output_type": "stream",
          "name": "stdout",
          "text": [
            "Enter number of data points: 5\n",
            "Enter data for x and y: \n",
            "x[0]=40\n",
            "y[0]=31\n",
            "x[1]=50\n",
            "y[1]=73\n",
            "x[2]=60\n",
            "y[2]=124\n",
            "x[3]=70\n",
            "y[3]=159\n",
            "x[4]=80\n",
            "y[4]=190\n",
            "\n",
            "FORWARD DIFFERENCE TABLE\n",
            "\n",
            "40.00\t\t31.00\t\t42.00\t\t9.00\t\t-25.00\t\t37.00\n",
            "50.00\t\t73.00\t\t51.00\t\t-16.00\t\t12.00\n",
            "60.00\t\t124.00\t\t35.00\t\t-4.00\n",
            "70.00\t\t159.00\t\t31.00\n",
            "80.00\t\t190.00\n"
          ]
        },
        {
          "output_type": "execute_result",
          "data": {
            "text/plain": [
              "'\\nEnter number of data points: 5\\nEnter data for x and y: \\nx[0]=40\\ny[0]=31\\nx[1]=50\\ny[1]=73\\nx[2]=60\\ny[2]=124\\nx[3]=70\\ny[3]=159\\nx[4]=80\\ny[4]=190\\n\\n'"
            ],
            "application/vnd.google.colaboratory.intrinsic+json": {
              "type": "string"
            }
          },
          "metadata": {},
          "execution_count": 2
        }
      ]
    }
  ]
}